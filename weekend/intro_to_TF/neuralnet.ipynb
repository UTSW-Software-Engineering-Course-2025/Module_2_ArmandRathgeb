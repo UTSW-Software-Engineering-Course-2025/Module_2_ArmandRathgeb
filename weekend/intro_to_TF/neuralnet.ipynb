{
 "cells": [
  {
   "cell_type": "code",
   "execution_count": 1,
   "id": "c287f09d",
   "metadata": {},
   "outputs": [
    {
     "name": "stderr",
     "output_type": "stream",
     "text": [
      "2025-05-26 18:59:50.500696: E external/local_xla/xla/stream_executor/cuda/cuda_fft.cc:467] Unable to register cuFFT factory: Attempting to register factory for plugin cuFFT when one has already been registered\n",
      "WARNING: All log messages before absl::InitializeLog() is called are written to STDERR\n",
      "E0000 00:00:1748303990.522390    1530 cuda_dnn.cc:8579] Unable to register cuDNN factory: Attempting to register factory for plugin cuDNN when one has already been registered\n",
      "E0000 00:00:1748303990.528967    1530 cuda_blas.cc:1407] Unable to register cuBLAS factory: Attempting to register factory for plugin cuBLAS when one has already been registered\n",
      "W0000 00:00:1748303990.545523    1530 computation_placer.cc:177] computation placer already registered. Please check linkage and avoid linking the same target more than once.\n",
      "W0000 00:00:1748303990.545540    1530 computation_placer.cc:177] computation placer already registered. Please check linkage and avoid linking the same target more than once.\n",
      "W0000 00:00:1748303990.545542    1530 computation_placer.cc:177] computation placer already registered. Please check linkage and avoid linking the same target more than once.\n",
      "W0000 00:00:1748303990.545543    1530 computation_placer.cc:177] computation placer already registered. Please check linkage and avoid linking the same target more than once.\n"
     ]
    }
   ],
   "source": [
    "import os\n",
    "import tensorflow as tf\n",
    "from tensorflow import keras\n",
    "from tensorflow.keras import layers\n",
    "from tensorflow.keras.datasets import mnist"
   ]
  },
  {
   "cell_type": "code",
   "execution_count": 2,
   "id": "adc265b7",
   "metadata": {},
   "outputs": [],
   "source": [
    "# load and prepare data for training\n",
    "(x_train, y_train), (x_test, y_test) = mnist.load_data()\n",
    "x_train = x_train.reshape(-1, 28 * 28).astype(\"float32\") / 255.0\n",
    "x_test = x_test.reshape(-1, 28 * 28).astype(\"float32\") / 255.0"
   ]
  },
  {
   "attachments": {},
   "cell_type": "markdown",
   "id": "350fbab3",
   "metadata": {},
   "source": [
    "## Dense Feed Forward Neural Networks (DFNNs)  also known as multi-layer perceptrons(MLPs)\n",
    "* well suited for inferencing from tabular data"
   ]
  },
  {
   "attachments": {},
   "cell_type": "markdown",
   "id": "db8118db",
   "metadata": {},
   "source": [
    "### Construct DFNN model using Sequential API  \n",
    "* simple interface\n",
    "* limited functionality"
   ]
  },
  {
   "cell_type": "code",
   "execution_count": 3,
   "id": "c343812c",
   "metadata": {},
   "outputs": [
    {
     "name": "stderr",
     "output_type": "stream",
     "text": [
      "E0000 00:00:1748303999.408048    1530 cuda_executor.cc:1228] INTERNAL: CUDA Runtime error: Failed call to cudaGetRuntimeVersion: Error loading CUDA libraries. GPU will not be used.: Error loading CUDA libraries. GPU will not be used.\n",
      "W0000 00:00:1748303999.408767    1530 gpu_device.cc:2341] Cannot dlopen some GPU libraries. Please make sure the missing libraries mentioned above are installed properly if you would like to use GPU. Follow the guide at https://www.tensorflow.org/install/gpu for how to download and setup the required libraries for your platform.\n",
      "Skipping registering GPU devices...\n"
     ]
    }
   ],
   "source": [
    "# Sequential API (Very convenient, not very flexible)\n",
    "modelDFNN1 = keras.Sequential(\n",
    "    [\n",
    "        keras.Input(shape=(28 * 28)),\n",
    "        layers.Dense(512, activation=\"relu\"),\n",
    "        layers.Dense(256, activation=\"relu\"),\n",
    "        layers.Dense(10),\n",
    "    ]\n",
    ")\n",
    "\n",
    "modelDFNN1 = keras.Sequential()\n",
    "modelDFNN1.add(keras.Input(shape=(784)))\n",
    "modelDFNN1.add(layers.Dense(512, activation=\"relu\"))\n",
    "modelDFNN1.add(layers.Dense(256, activation=\"relu\", name=\"my_layer\"))\n",
    "modelDFNN1.add(layers.Dense(10))"
   ]
  },
  {
   "cell_type": "code",
   "execution_count": null,
   "id": "4d6c1f9c",
   "metadata": {},
   "outputs": [],
   "source": [
    "# ToDo #1: List what objects the modelDFNN1 is comprised of (built from)\n",
    "# One input layer to flatten the images\n",
    "# 2 linear layers\n",
    "# One linear output classifier"
   ]
  },
  {
   "cell_type": "code",
   "execution_count": 4,
   "id": "f1c00633",
   "metadata": {},
   "outputs": [
    {
     "name": "stderr",
     "output_type": "stream",
     "text": [
      "WARNING:absl:`lr` is deprecated in TF-Keras optimizer, please use `learning_rate` or use the legacy optimizer, e.g.,tf.keras.optimizers.legacy.Adam.\n"
     ]
    }
   ],
   "source": [
    "modelDFNN1.compile(\n",
    "    loss=keras.losses.SparseCategoricalCrossentropy(from_logits=False),\n",
    "    optimizer=keras.optimizers.Adam(lr=0.001),\n",
    "    metrics=[\"accuracy\"],\n",
    ")"
   ]
  },
  {
   "cell_type": "code",
   "execution_count": 5,
   "id": "cb47d972",
   "metadata": {},
   "outputs": [
    {
     "name": "stdout",
     "output_type": "stream",
     "text": [
      "Epoch 1/5\n",
      "1875/1875 - 5s - loss: 2.3232 - accuracy: 0.1284 - 5s/epoch - 3ms/step\n",
      "Epoch 2/5\n",
      "1875/1875 - 5s - loss: 2.3025 - accuracy: 0.1273 - 5s/epoch - 2ms/step\n",
      "Epoch 3/5\n",
      "1875/1875 - 5s - loss: 2.3025 - accuracy: 0.1273 - 5s/epoch - 2ms/step\n",
      "Epoch 4/5\n",
      "1875/1875 - 5s - loss: 2.3025 - accuracy: 0.1273 - 5s/epoch - 2ms/step\n",
      "Epoch 5/5\n",
      "1875/1875 - 5s - loss: 2.3025 - accuracy: 0.1273 - 5s/epoch - 2ms/step\n",
      "313/313 - 0s - loss: 2.3026 - accuracy: 0.1278 - 474ms/epoch - 2ms/step\n"
     ]
    },
    {
     "data": {
      "text/plain": [
       "[2.30259108543396, 0.12780000269412994]"
      ]
     },
     "execution_count": 5,
     "metadata": {},
     "output_type": "execute_result"
    }
   ],
   "source": [
    "modelDFNN1.fit(x_train, y_train, batch_size=32, epochs=5, verbose=2)\n",
    "modelDFNN1.evaluate(x_test, y_test, batch_size=32, verbose=2)"
   ]
  },
  {
   "cell_type": "code",
   "execution_count": null,
   "id": "325b0a75",
   "metadata": {},
   "outputs": [],
   "source": [
    "# ToDo #2: What train and test accuracy do you obtain when running for 5 epochs ?  \n",
    "# Train: .1273\n",
    "# Test: .1278\n",
    "\n"
   ]
  },
  {
   "cell_type": "code",
   "execution_count": 6,
   "id": "fb2b9807",
   "metadata": {},
   "outputs": [
    {
     "name": "stdout",
     "output_type": "stream",
     "text": [
      "Epoch 1/20\n",
      "1875/1875 - 4s - loss: 2.3025 - accuracy: 0.1273 - 4s/epoch - 2ms/step\n",
      "Epoch 2/20\n",
      "1875/1875 - 5s - loss: 2.3025 - accuracy: 0.1273 - 5s/epoch - 2ms/step\n",
      "Epoch 3/20\n",
      "1875/1875 - 5s - loss: 2.3025 - accuracy: 0.1274 - 5s/epoch - 2ms/step\n",
      "Epoch 4/20\n",
      "1875/1875 - 5s - loss: 2.3025 - accuracy: 0.1274 - 5s/epoch - 2ms/step\n",
      "Epoch 5/20\n",
      "1875/1875 - 5s - loss: 2.3025 - accuracy: 0.1275 - 5s/epoch - 2ms/step\n",
      "Epoch 6/20\n",
      "1875/1875 - 5s - loss: 2.3025 - accuracy: 0.1279 - 5s/epoch - 2ms/step\n",
      "Epoch 7/20\n",
      "1875/1875 - 5s - loss: 2.3025 - accuracy: 0.1279 - 5s/epoch - 2ms/step\n",
      "Epoch 8/20\n",
      "1875/1875 - 5s - loss: 2.3071 - accuracy: 0.1143 - 5s/epoch - 2ms/step\n",
      "Epoch 9/20\n",
      "1875/1875 - 5s - loss: 2.3026 - accuracy: 0.0904 - 5s/epoch - 2ms/step\n",
      "Epoch 10/20\n",
      "1875/1875 - 5s - loss: 2.3026 - accuracy: 0.0904 - 5s/epoch - 2ms/step\n",
      "Epoch 11/20\n",
      "1875/1875 - 5s - loss: 2.3026 - accuracy: 0.0904 - 5s/epoch - 2ms/step\n",
      "Epoch 12/20\n",
      "1875/1875 - 5s - loss: 2.3026 - accuracy: 0.0904 - 5s/epoch - 2ms/step\n",
      "Epoch 13/20\n",
      "1875/1875 - 5s - loss: 2.3026 - accuracy: 0.0904 - 5s/epoch - 2ms/step\n",
      "Epoch 14/20\n",
      "1875/1875 - 5s - loss: 2.3026 - accuracy: 0.0904 - 5s/epoch - 2ms/step\n",
      "Epoch 15/20\n",
      "1875/1875 - 5s - loss: 2.3026 - accuracy: 0.0904 - 5s/epoch - 2ms/step\n",
      "Epoch 16/20\n",
      "1875/1875 - 5s - loss: 2.3026 - accuracy: 0.0904 - 5s/epoch - 2ms/step\n",
      "Epoch 17/20\n",
      "1875/1875 - 5s - loss: 2.3026 - accuracy: 0.0904 - 5s/epoch - 2ms/step\n",
      "Epoch 18/20\n",
      "1875/1875 - 5s - loss: 2.3026 - accuracy: 0.0904 - 5s/epoch - 2ms/step\n",
      "Epoch 19/20\n",
      "1875/1875 - 5s - loss: 2.3026 - accuracy: 0.0904 - 5s/epoch - 2ms/step\n",
      "Epoch 20/20\n",
      "1875/1875 - 5s - loss: 2.3026 - accuracy: 0.0904 - 5s/epoch - 2ms/step\n",
      "313/313 - 0s - loss: 2.3026 - accuracy: 0.0892 - 341ms/epoch - 1ms/step\n"
     ]
    },
    {
     "data": {
      "text/plain": [
       "[2.30259108543396, 0.08919999748468399]"
      ]
     },
     "execution_count": 6,
     "metadata": {},
     "output_type": "execute_result"
    }
   ],
   "source": [
    "modelDFNN1.fit(x_train, y_train, batch_size=32, epochs=20, verbose=2)\n",
    "modelDFNN1.evaluate(x_test, y_test, batch_size=32, verbose=2)"
   ]
  },
  {
   "cell_type": "code",
   "execution_count": null,
   "id": "0f45161c",
   "metadata": {},
   "outputs": [],
   "source": [
    "# ToDo #3: Now write code (add code cells to this notebook) to train the model for 20 additional epochs. What train and test accuracy do you obtain? \n",
    "# Train: .0904\n",
    "# Test: .0892\n",
    "\n"
   ]
  },
  {
   "attachments": {},
   "cell_type": "markdown",
   "id": "28b9d4f5",
   "metadata": {},
   "source": [
    "### Construct DFNN model using Functional API  \n",
    "* slightly more complex interface\n",
    "* additional functionality"
   ]
  },
  {
   "cell_type": "code",
   "execution_count": null,
   "id": "ef7835d5",
   "metadata": {},
   "outputs": [],
   "source": [
    "# ToDo #4: Now practice using the OO functional API of keras by constructing your own functional model, modelDFNN2.\n",
    "# To simplify the task, create this model so that it uses the same architecture as the sequential model.\n",
    "# For the final Dense layer use activation=\"softmax\"\n"
   ]
  },
  {
   "cell_type": "code",
   "execution_count": 7,
   "id": "4f9ad72f",
   "metadata": {},
   "outputs": [],
   "source": [
    "# Functional API (A bit more flexible)\n",
    "inputs = keras.Input(shape=(784))\n",
    "x = layers.Dense(512, activation=\"relu\", name=\"first_layer\")(inputs)\n",
    "x = layers.Dense(256, activation=\"relu\", name=\"second_layer\")(x)\n",
    "outputs = layers.Dense(10, activation=\"softmax\")(x)\n",
    "modelDFNN2 = keras.Model(inputs=inputs, outputs=outputs)\n",
    "\n"
   ]
  },
  {
   "cell_type": "code",
   "execution_count": null,
   "id": "0f23ea53",
   "metadata": {},
   "outputs": [],
   "source": [
    "# Now to gain experience invoking methods on objects you have created,\n",
    "# write code to compile(), fit() your new model on the training data. \n",
    "# Then write code to evaluate your new model on the test data. \n"
   ]
  },
  {
   "cell_type": "code",
   "execution_count": 8,
   "id": "7ab84e59",
   "metadata": {},
   "outputs": [
    {
     "name": "stderr",
     "output_type": "stream",
     "text": [
      "WARNING:absl:`lr` is deprecated in TF-Keras optimizer, please use `learning_rate` or use the legacy optimizer, e.g.,tf.keras.optimizers.legacy.Adam.\n"
     ]
    }
   ],
   "source": [
    "modelDFNN2.compile(\n",
    "    loss=keras.losses.SparseCategoricalCrossentropy(from_logits=False),\n",
    "    optimizer=keras.optimizers.Adam(lr=0.001),\n",
    "    metrics=[\"accuracy\"],\n",
    ")"
   ]
  },
  {
   "cell_type": "code",
   "execution_count": 9,
   "id": "07ae3065",
   "metadata": {},
   "outputs": [
    {
     "name": "stdout",
     "output_type": "stream",
     "text": [
      "Epoch 1/5\n",
      "1875/1875 - 5s - loss: 0.1851 - accuracy: 0.9438 - 5s/epoch - 3ms/step\n",
      "Epoch 2/5\n",
      "1875/1875 - 4s - loss: 0.0774 - accuracy: 0.9757 - 4s/epoch - 2ms/step\n",
      "Epoch 3/5\n",
      "1875/1875 - 4s - loss: 0.0554 - accuracy: 0.9828 - 4s/epoch - 2ms/step\n",
      "Epoch 4/5\n",
      "1875/1875 - 5s - loss: 0.0396 - accuracy: 0.9871 - 5s/epoch - 2ms/step\n",
      "Epoch 5/5\n",
      "1875/1875 - 5s - loss: 0.0324 - accuracy: 0.9895 - 5s/epoch - 2ms/step\n",
      "313/313 - 0s - loss: 0.0850 - accuracy: 0.9785 - 465ms/epoch - 1ms/step\n"
     ]
    },
    {
     "data": {
      "text/plain": [
       "[0.08498222380876541, 0.9785000085830688]"
      ]
     },
     "execution_count": 9,
     "metadata": {},
     "output_type": "execute_result"
    }
   ],
   "source": [
    "modelDFNN2.fit(x_train, y_train, batch_size=32, epochs=5, verbose=2)\n",
    "modelDFNN2.evaluate(x_test, y_test, batch_size=32, verbose=2)"
   ]
  },
  {
   "cell_type": "code",
   "execution_count": null,
   "id": "35993c43",
   "metadata": {},
   "outputs": [],
   "source": [
    "# ToDo #5. Write down what train and test accuracy do you observe? How does it compare to the sequential model?\n",
    "# Train: .9895\n",
    "# Test: .9785\n",
    "# The accuracy was far better than the sequential model"
   ]
  },
  {
   "cell_type": "code",
   "execution_count": null,
   "id": "7eaafd90",
   "metadata": {},
   "outputs": [],
   "source": [
    "# For fun: explore the architecture space by adding or removing layers from your model, retrain from scratch. \n",
    "# Learn how that impacts model performance. State of the art accuracy is around 99.97% . \n",
    "# You do not need to achieve that (nor is that expected here) but to give you an idea."
   ]
  },
  {
   "cell_type": "code",
   "execution_count": 12,
   "id": "05209822",
   "metadata": {},
   "outputs": [
    {
     "name": "stderr",
     "output_type": "stream",
     "text": [
      "WARNING:absl:`lr` is deprecated in TF-Keras optimizer, please use `learning_rate` or use the legacy optimizer, e.g.,tf.keras.optimizers.legacy.Adam.\n"
     ]
    }
   ],
   "source": [
    "inputs = keras.Input(shape=(784))\n",
    "x = layers.Dense(512, activation=\"relu\", name=\"first_layer\")(inputs)\n",
    "x = layers.Dense(256, activation=\"relu\", name=\"second_layer\")(x)\n",
    "x = layers.Dense(128, activation=\"relu\", name=\"3\")(x)\n",
    "x = layers.Dense(64, activation=\"relu\", name=\"4\")(x)\n",
    "outputs = layers.Dense(10, activation=\"softmax\")(x)\n",
    "modelDFNN2 = keras.Model(inputs=inputs, outputs=outputs)\n",
    "modelDFNN2.compile(\n",
    "    loss=keras.losses.SparseCategoricalCrossentropy(from_logits=False),\n",
    "    optimizer=keras.optimizers.Adam(lr=0.001),\n",
    "    metrics=[\"accuracy\"],\n",
    ")\n"
   ]
  },
  {
   "cell_type": "code",
   "execution_count": 14,
   "id": "cea9e158",
   "metadata": {},
   "outputs": [
    {
     "name": "stdout",
     "output_type": "stream",
     "text": [
      "Epoch 1/10\n",
      "1875/1875 - 5s - loss: 0.0361 - accuracy: 0.9891 - 5s/epoch - 3ms/step\n",
      "Epoch 2/10\n",
      "1875/1875 - 5s - loss: 0.0325 - accuracy: 0.9903 - 5s/epoch - 3ms/step\n",
      "Epoch 3/10\n",
      "1875/1875 - 5s - loss: 0.0282 - accuracy: 0.9918 - 5s/epoch - 3ms/step\n",
      "Epoch 4/10\n",
      "1875/1875 - 5s - loss: 0.0258 - accuracy: 0.9926 - 5s/epoch - 3ms/step\n",
      "Epoch 5/10\n",
      "1875/1875 - 5s - loss: 0.0236 - accuracy: 0.9934 - 5s/epoch - 3ms/step\n",
      "Epoch 6/10\n",
      "1875/1875 - 5s - loss: 0.0197 - accuracy: 0.9942 - 5s/epoch - 3ms/step\n",
      "Epoch 7/10\n",
      "1875/1875 - 5s - loss: 0.0184 - accuracy: 0.9943 - 5s/epoch - 3ms/step\n",
      "Epoch 8/10\n",
      "1875/1875 - 5s - loss: 0.0196 - accuracy: 0.9944 - 5s/epoch - 3ms/step\n",
      "Epoch 9/10\n",
      "1875/1875 - 5s - loss: 0.0147 - accuracy: 0.9958 - 5s/epoch - 3ms/step\n",
      "Epoch 10/10\n",
      "1875/1875 - 5s - loss: 0.0158 - accuracy: 0.9953 - 5s/epoch - 3ms/step\n",
      "313/313 - 0s - loss: 0.1194 - accuracy: 0.9807 - 396ms/epoch - 1ms/step\n"
     ]
    },
    {
     "data": {
      "text/plain": [
       "[0.11940979212522507, 0.9807000160217285]"
      ]
     },
     "execution_count": 14,
     "metadata": {},
     "output_type": "execute_result"
    }
   ],
   "source": [
    "modelDFNN2.fit(x_train, y_train, batch_size=32, epochs=10, verbose=2)\n",
    "modelDFNN2.evaluate(x_test, y_test, batch_size=32, verbose=2)"
   ]
  }
 ],
 "metadata": {
  "kernelspec": {
   "display_name": "montillo_conda_env",
   "language": "python",
   "name": "montillo_conda_env"
  }
 },
 "nbformat": 4,
 "nbformat_minor": 5
}
