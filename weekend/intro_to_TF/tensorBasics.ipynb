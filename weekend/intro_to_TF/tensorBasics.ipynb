{
 "cells": [
  {
   "cell_type": "code",
   "execution_count": null,
   "id": "fa20de9b",
   "metadata": {},
   "outputs": [],
   "source": [
    "import os\n",
    "import tensorflow as tf"
   ]
  },
  {
   "cell_type": "code",
   "execution_count": null,
   "id": "f2e415e0",
   "metadata": {},
   "outputs": [],
   "source": [
    "# Initialization\n",
    "x = tf.constant(4, shape=(1, 1), dtype=tf.float32)\n",
    "print(x)\n",
    "\n",
    "x = tf.constant([[1, 2, 3], [4, 5, 6]], shape=(2, 3))\n",
    "print(x)\n",
    "\n",
    "x = tf.eye(3)\n",
    "print(x)\n",
    "\n",
    "x = tf.ones((4, 3))\n",
    "print(x)\n",
    "\n",
    "x = tf.zeros((3, 2, 5))\n",
    "print(x)\n",
    "\n",
    "x = tf.random.uniform((2, 2), minval=0, maxval=1)\n",
    "print(x)\n",
    "\n",
    "x = tf.random.normal((3, 3), mean=0, stddev=1)\n",
    "print(tf.cast(x, dtype=tf.float64))\n",
    "# tf.float (16,32,64), tf.int (8, 16, 32, 64), tf.bool\n",
    "\n",
    "x = tf.range(9)\n",
    "x = tf.range(start=0, limit=10, delta=2)\n",
    "print(x)"
   ]
  },
  {
   "cell_type": "code",
   "execution_count": null,
   "id": "caf5f3b5",
   "metadata": {},
   "outputs": [],
   "source": [
    "# Math\n",
    "x = tf.constant([1, 2, 3])\n",
    "y = tf.constant([9, 8, 7])\n",
    "\n",
    "print(f\"x = {x}\")\n",
    "print(f\"y = {y}\")\n",
    "\n",
    "z = tf.add(x, y)\n",
    "z = x + y\n",
    "print(f\"x+y = {z}\")\n",
    "\n",
    "z = tf.subtract(x, y)\n",
    "z = x - y\n",
    "print(f\"x-y = {z}\")\n",
    "\n",
    "z = tf.divide(x, y)\n",
    "z = x / y\n",
    "print(f\"x/y = {z}\")\n",
    "\n",
    "z = tf.multiply(x, y)\n",
    "z = x * y\n",
    "print(f\"x*y = {z}\")\n",
    "\n",
    "z = tf.tensordot(x, y, axes=1)\n",
    "print(f\"x dot y  = {z}\")\n",
    "\n",
    "z = x ** 5\n",
    "print(f\"x^5  = {z}\")\n",
    "\n",
    "x = tf.random.normal((2, 3))\n",
    "y = tf.random.normal((3, 2))\n",
    "z = tf.matmul(x, y)\n",
    "z = x @ y\n",
    "print(f\"x @ y  = {z}\")\n",
    "\n",
    "x = tf.random.normal((2, 2))\n",
    "print(f\"rand normal 2x2 tensor  = {z}\")"
   ]
  },
  {
   "cell_type": "code",
   "execution_count": null,
   "id": "cc43b4e5",
   "metadata": {},
   "outputs": [],
   "source": [
    "# Indexing\n",
    "x = tf.constant([0, 1, 1, 2, 3, 1, 2, 3])\n",
    "print(x[:])\n",
    "print(x[1:])\n",
    "print(x[1:3])\n",
    "print(x[::2])\n",
    "print(x[::-1])\n",
    "\n",
    "indices = tf.constant([0, 3])\n",
    "x_indices = tf.gather(x, indices)\n",
    "\n",
    "x = tf.constant([[1, 2], [3, 4], [5, 6]])\n",
    "\n",
    "print(x[0, :])\n",
    "print(x[0:2, :])"
   ]
  },
  {
   "cell_type": "code",
   "execution_count": null,
   "id": "e99410c1",
   "metadata": {},
   "outputs": [],
   "source": [
    "# Reshaping\n",
    "x = tf.range(9)\n",
    "print(f\"x={x}\")\n",
    "\n",
    "x = tf.reshape(x, (3, 3))\n",
    "print(f\"x reshaped to 3x3 tensor = \\n{x}\")\n",
    "\n",
    "x = tf.transpose(x, perm=[1, 0])\n",
    "print(f\"x transposed = \\n{x}\")"
   ]
  },
  {
   "cell_type": "code",
   "execution_count": null,
   "id": "d68356de",
   "metadata": {},
   "outputs": [],
   "source": []
  }
 ],
 "metadata": {
  "kernelspec": {
   "display_name": "VAE_GAN_env",
   "language": "python",
   "name": "vae_gan_env"
  },
  "language_info": {
   "codemirror_mode": {
    "name": "ipython",
    "version": 3
   },
   "file_extension": ".py",
   "mimetype": "text/x-python",
   "name": "python",
   "nbconvert_exporter": "python",
   "pygments_lexer": "ipython3",
   "version": "3.8.12"
  }
 },
 "nbformat": 4,
 "nbformat_minor": 5
}
