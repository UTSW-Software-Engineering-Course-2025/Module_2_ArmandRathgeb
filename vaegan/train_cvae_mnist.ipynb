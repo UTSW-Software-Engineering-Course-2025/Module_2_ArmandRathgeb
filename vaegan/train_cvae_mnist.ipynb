{
 "cells": [
  {
   "attachments": {},
   "cell_type": "markdown",
   "id": "2e682997",
   "metadata": {},
   "source": [
    "# Conditional VAE\n",
    "Train a conditional VAE on the MNIST handwritten digit dataset. \n",
    "\n",
    "This makes use of: our custom Keras model class defined in vaegan.vae.py, our\n",
    "class for loading the MNIST dataset defined in vaegan.data, and our custom Keras\n",
    "callback in vaegan.callbacks.\n",
    "\n",
    "A directory called 'output' will be created to save figures and the trained\n",
    "model. \n",
    "\n"
   ]
  },
  {
   "cell_type": "code",
   "execution_count": null,
   "id": "7cbb7219",
   "metadata": {},
   "outputs": [],
   "source": [
    "# nEpochs=20  # orig, longer training\n",
    "nEpochs=3  # quick testing during development"
   ]
  },
  {
   "attachments": {},
   "cell_type": "markdown",
   "id": "be8bb21d",
   "metadata": {},
   "source": [
    "## 1. Import 3rd party libraries"
   ]
  },
  {
   "cell_type": "code",
   "execution_count": null,
   "id": "09c39eda",
   "metadata": {},
   "outputs": [],
   "source": [
    "import os\n",
    "import tensorflow as tf\n",
    "import matplotlib.pyplot as plt\n",
    "import numpy as np\n",
    "from importlib import reload\n"
   ]
  },
  {
   "attachments": {},
   "cell_type": "markdown",
   "id": "cefe52fb",
   "metadata": {},
   "source": [
    "## 2. Import our own classes (that we will complete together)"
   ]
  },
  {
   "cell_type": "code",
   "execution_count": null,
   "id": "47d5d824",
   "metadata": {},
   "outputs": [],
   "source": [
    "# Import our own classes \n",
    "from vaegan.data import MNIST\n",
    "from vaegan.conditional.callbacks import SaveImagesConditional\n",
    "import vaegan.vae"
   ]
  },
  {
   "attachments": {},
   "cell_type": "markdown",
   "id": "0d3a1e4f",
   "metadata": {},
   "source": [
    "## 3. Show some our data"
   ]
  },
  {
   "cell_type": "code",
   "execution_count": null,
   "id": "eddaf81e",
   "metadata": {},
   "outputs": [],
   "source": [
    "# Create output directory if it doesn't exist yet.\n",
    "output_dir = './outputs/mnist_cvae'\n",
    "os.makedirs(output_dir, exist_ok=True)\n",
    "    \n",
    "# Instantiate the MNIST class containing our training data.\n",
    "data = MNIST()\n",
    "\n",
    "# One-hot encode the labels\n",
    "n_classes = int(data.labels_train.max() + 1)\n",
    "labels_onehot = tf.one_hot(data.labels_train, \n",
    "                           depth=n_classes,\n",
    "                           dtype=tf.float32).numpy()\n",
    "\n",
    "# Show some example images and their labels.\n",
    "data.show_example_images(os.path.join(output_dir, 'example_images.png'))"
   ]
  },
  {
   "attachments": {},
   "cell_type": "markdown",
   "id": "e8976d01",
   "metadata": {},
   "source": [
    "## 4. Construct the model using the python class you completed"
   ]
  },
  {
   "cell_type": "code",
   "execution_count": null,
   "id": "8722b729",
   "metadata": {},
   "outputs": [],
   "source": [
    "pyModule = reload(vaegan.vae)\n",
    "    \n",
    "# Create the model. Note that we're using mostly the default arguments, but this is\n",
    "# where you might want to play around with different loss weights.\n",
    "tf.random.set_seed(1234)\n",
    "model = pyModule.ConditionalVAE(n_classes=n_classes)\n",
    "\n",
    "# This step tells Keras to compute the explicit output shapes of each layer.\n",
    "# Otherwise, the layers will have dynamic/variable output shapes which is not\n",
    "# compatible with saving and loading.\n",
    "model.compute_output_shape([(None, 32, 32, 1), (None, n_classes)])\n",
    "model.decoder.compute_output_shape((None, 18))"
   ]
  },
  {
   "attachments": {},
   "cell_type": "markdown",
   "id": "bb2b2df1",
   "metadata": {},
   "source": [
    "## <span style=\"color:blue\"> Correct model dimensions </span>\n",
    "    \n",
    "\n",
    "<span style=\"color:blue\"> === OVERALL MODEL ==== </span>\n",
    "\n",
    "```\n",
    "Layer (type)                 Output Shape              Param #   \n",
    "=================================================================\n",
    "encoder (Encoder)            multiple                  243456    \n",
    "_________________________________________________________________\n",
    "decoder (Decoder)            multiple                  192385    \n",
    "_________________________________________________________________\n",
    "recon_loss (Mean)            multiple                  2         \n",
    "_________________________________________________________________\n",
    "kl_loss (Mean)               multiple                  2         \n",
    "_________________________________________________________________\n",
    "total_loss (Mean)            multiple                  2         \n",
    "=================================================================\n",
    "Total params: 435,847\n",
    "Trainable params: 435,137\n",
    "Non-trainable params: 710\n",
    "__________________________\n",
    "\n",
    "```\n",
    "<span style=\"color:blue\"> === ENCODER SUBMODEL ====</span>\n",
    "```\n",
    "Layer (type)                    Output Shape         Param #     Connected to                     \n",
    "==================================================================================================\n",
    "input_4 (InputLayer)            [(None, 32, 32, 11)] 0                                            \n",
    "__________________________________________________________________________________________________\n",
    "conv0 (Conv2D)                  (None, 32, 32, 16)   2832        input_4[0][0]                    \n",
    "__________________________________________________________________________________________________\n",
    "bn0 (BatchNormalization)        (None, 32, 32, 16)   64          conv0[0][0]                      \n",
    "__________________________________________________________________________________________________\n",
    "relu0 (ReLU)                    (None, 32, 32, 16)   0           bn0[0][0]                        \n",
    "__________________________________________________________________________________________________\n",
    "conv1 (Conv2D)                  (None, 16, 16, 32)   8224        relu0[0][0]                      \n",
    "__________________________________________________________________________________________________\n",
    "bn1 (BatchNormalization)        (None, 16, 16, 32)   128         conv1[0][0]                      \n",
    "__________________________________________________________________________________________________\n",
    "relu1 (ReLU)                    (None, 16, 16, 32)   0           bn1[0][0]                        \n",
    "__________________________________________________________________________________________________\n",
    "conv2 (Conv2D)                  (None, 8, 8, 64)     32832       relu1[0][0]                      \n",
    "__________________________________________________________________________________________________\n",
    "bn2 (BatchNormalization)        (None, 8, 8, 64)     256         conv2[0][0]                      \n",
    "__________________________________________________________________________________________________\n",
    "relu2 (ReLU)                    (None, 8, 8, 64)     0           bn2[0][0]                        \n",
    "__________________________________________________________________________________________________\n",
    "conv3 (Conv2D)                  (None, 4, 4, 64)     65600       relu2[0][0]                      \n",
    "__________________________________________________________________________________________________\n",
    "bn3 (BatchNormalization)        (None, 4, 4, 64)     256         conv3[0][0]                      \n",
    "__________________________________________________________________________________________________\n",
    "relu3 (ReLU)                    (None, 4, 4, 64)     0           bn3[0][0]                        \n",
    "__________________________________________________________________________________________________\n",
    "flatten (Flatten)               (None, 1024)         0           relu3[0][0]                      \n",
    "__________________________________________________________________________________________________\n",
    "dense (Dense)                   (None, 128)          131200      flatten[0][0]                    \n",
    "__________________________________________________________________________________________________\n",
    "dense_mean (Dense)              (None, 8)            1032        dense[0][0]                      \n",
    "__________________________________________________________________________________________________\n",
    "dense_logvar (Dense)            (None, 8)            1032        dense[0][0]                      \n",
    "==================================================================================================\n",
    "Total params: 243,456\n",
    "Trainable params: 243,104\n",
    "Non-trainable params: 352\n",
    "\n",
    "```\n",
    "<span style=\"color:blue\"> === DECODER SUBMODEL ====</span>\n",
    "```\n",
    "Layer (type)                 Output Shape              Param #   \n",
    "=================================================================\n",
    "input_2 (InputLayer)         [(None, 18)]              0         \n",
    "_________________________________________________________________\n",
    "dense (Dense)                (None, 1024)              19456     \n",
    "_________________________________________________________________\n",
    "relu_dense (ReLU)            (None, 1024)              0         \n",
    "_________________________________________________________________\n",
    "reshape (Reshape)            (None, 4, 4, 64)          0         \n",
    "_________________________________________________________________\n",
    "tconv0 (Conv2DTranspose)     (None, 8, 8, 64)          65600     \n",
    "_________________________________________________________________\n",
    "bn0 (BatchNormalization)     (None, 8, 8, 64)          256       \n",
    "_________________________________________________________________\n",
    "relu0 (ReLU)                 (None, 8, 8, 64)          0         \n",
    "_________________________________________________________________\n",
    "tconv1 (Conv2DTranspose)     (None, 16, 16, 64)        65600     \n",
    "_________________________________________________________________\n",
    "bn1 (BatchNormalization)     (None, 16, 16, 64)        256       \n",
    "_________________________________________________________________\n",
    "relu1 (ReLU)                 (None, 16, 16, 64)        0         \n",
    "_________________________________________________________________\n",
    "tconv2 (Conv2DTranspose)     (None, 32, 32, 32)        32800     \n",
    "_________________________________________________________________\n",
    "bn2 (BatchNormalization)     (None, 32, 32, 32)        128       \n",
    "_________________________________________________________________\n",
    "relu2 (ReLU)                 (None, 32, 32, 32)        0         \n",
    "_________________________________________________________________\n",
    "tconv3 (Conv2DTranspose)     (None, 32, 32, 16)        8208      \n",
    "_________________________________________________________________\n",
    "bn3 (BatchNormalization)     (None, 32, 32, 16)        64        \n",
    "_________________________________________________________________\n",
    "relu3 (ReLU)                 (None, 32, 32, 16)        0         \n",
    "_________________________________________________________________\n",
    "conv_out (Conv2D)            (None, 32, 32, 1)         17        \n",
    "_________________________________________________________________\n",
    "sigmoid_out (Activation)     (None, 32, 32, 1)         0         \n",
    "=================================================================\n",
    "Total params: 192,385\n",
    "Trainable params: 192,033\n",
    "Non-trainable params: 352\n",
    "\n",
    "```\n",
    "## 5. Now check your model's  dimensions against this list above"
   ]
  },
  {
   "cell_type": "code",
   "execution_count": null,
   "id": "a38d64e4",
   "metadata": {
    "scrolled": false
   },
   "outputs": [],
   "source": [
    "print(\"=== OVERALL MODEL ====\")\n",
    "model.summary()\n",
    "print(\"=== ENCODER SUBMODEL ====\")\n",
    "enc_in = tf.keras.layers.Input((32,32,11)) # 32x32x1 + 10 more in the last dim for the one-hot encoded class label\n",
    "enc_out  = model.encoder.call(enc_in) \n",
    "enc = tf.keras.Model(enc_in, enc_out) \n",
    "enc.summary()\n",
    "print(\"=== DECODER SUBMODEL ====\")\n",
    "dec_in = tf.keras.layers.Input(model.n_latent_dims+10) \n",
    "dec_out  = model.decoder.call(dec_in) \n",
    "dec = tf.keras.Model(dec_in, dec_out) \n",
    "dec.summary()\n",
    "\n",
    "\n"
   ]
  },
  {
   "attachments": {},
   "cell_type": "markdown",
   "id": "bc1ceb7c",
   "metadata": {},
   "source": [
    "## 6. Compile the model "
   ]
  },
  {
   "cell_type": "code",
   "execution_count": null,
   "id": "dabe6052",
   "metadata": {},
   "outputs": [],
   "source": [
    "# Compile the model with an optimizer. The learning rate of the optimizer can be\n",
    "# specified here. Normally, this is also where you would select a loss function\n",
    "# and any metrics. However, our custom model defines the loss functions inside\n",
    "# its __init__ constructor, so we don't need to do that here. \n",
    "model.compile(optimizer=tf.keras.optimizers.Adam(lr=0.001))\n",
    "\n",
    "# Instantiate our custom callback to save a few example reconstructions and\n",
    "# generated images after each epoch.\n",
    "save_images_callback = SaveImagesConditional(output_dir=output_dir, \n",
    "                                             model=model,\n",
    "                                             example_images=data.images_train[:10],\n",
    "                                             example_labels=labels_onehot[:10],\n",
    "                                             n_generated_images=10,\n",
    "                                             n_latent_dims=model.n_latent_dims)"
   ]
  },
  {
   "attachments": {},
   "cell_type": "markdown",
   "id": "a35a7256",
   "metadata": {},
   "source": [
    "## 7. Train (fit) the model on the data "
   ]
  },
  {
   "cell_type": "code",
   "execution_count": null,
   "id": "dfccf286",
   "metadata": {},
   "outputs": [],
   "source": [
    "# Train the model. Just like any off-the-shelf Keras model, we just call fit.\n",
    "# Under the hood, Keras will call the train_step method of our custom subclass\n",
    "# on each mini-batch and automatically loop through the training data. It will\n",
    "# take care of all the details, like converting numpy arrays to tensors, showing\n",
    "# a progress bar, and tracking the loss over the epochs.\n",
    "logs = model.fit([data.images_train, labels_onehot],\n",
    "                 batch_size=128,\n",
    "                 epochs=1,\n",
    "                 callbacks=[save_images_callback])"
   ]
  },
  {
   "cell_type": "code",
   "execution_count": null,
   "id": "ab7a0027",
   "metadata": {},
   "outputs": [],
   "source": [
    "print(\"=== OVERALL MODEL ====\")\n",
    "model.summary()\n",
    "print(\"=== ENCODER SUBMODEL ====\")\n",
    "model.encoder.summary()\n",
    "print(\"=== DECODER SUBMODEL ====\")\n",
    "model.decoder.summary()"
   ]
  },
  {
   "cell_type": "code",
   "execution_count": null,
   "id": "a90f504e",
   "metadata": {},
   "outputs": [],
   "source": [
    "# Train the model. Just like any off-the-shelf Keras model, we just call fit.\n",
    "# Under the hood, Keras will call the train_step method of our custom subclass\n",
    "# on each mini-batch and automatically loop through the training data. It will\n",
    "# take care of all the details, like converting numpy arrays to tensors, showing\n",
    "# a progress bar, and tracking the loss over the epochs.\n",
    "logs = model.fit([data.images_train, labels_onehot],\n",
    "                 batch_size=128,\n",
    "                 epochs=nEpochs,\n",
    "                 callbacks=[save_images_callback])"
   ]
  },
  {
   "attachments": {},
   "cell_type": "markdown",
   "id": "f1a32705",
   "metadata": {},
   "source": [
    "## 8. Training saves results to disk, now also plot training curves"
   ]
  },
  {
   "cell_type": "code",
   "execution_count": null,
   "id": "1e5ef642",
   "metadata": {},
   "outputs": [],
   "source": [
    "# Plot the training curves, which are stored in logs.history as a dict. Keys of\n",
    "# this dict are the metric names, while the corresponding values are arrays.\n",
    "fig, ax = plt.subplots()\n",
    "\n",
    "for loss_name in ['recon_loss', 'kl_loss', 'total_loss']:\n",
    "    loss_values = logs.history[loss_name]\n",
    "    x = np.arange(len(loss_values))\n",
    "    ax.plot(x, loss_values, label=loss_name)\n",
    "    \n",
    "ax.legend()\n",
    "ax.set_xlabel('Epoch')\n",
    "fig.savefig(os.path.join(output_dir, 'training_curves.png'), transparent=False)\n",
    "fig.show()\n",
    "\n",
    "# Save the model \n",
    "model.save(os.path.join(output_dir, 'cvae'))"
   ]
  },
  {
   "cell_type": "code",
   "execution_count": null,
   "id": "e7509f53",
   "metadata": {},
   "outputs": [],
   "source": []
  },
  {
   "cell_type": "code",
   "execution_count": null,
   "id": "ec0ad5de",
   "metadata": {},
   "outputs": [],
   "source": []
  },
  {
   "cell_type": "code",
   "execution_count": null,
   "id": "2a4aad6f",
   "metadata": {},
   "outputs": [],
   "source": [
    "\n",
    "\n",
    "\n",
    "\n",
    "  \n",
    "\n",
    "\n",
    "\n",
    "\n",
    "\n",
    "\n",
    "\n",
    "\n",
    "\n"
   ]
  }
 ],
 "metadata": {
  "kernelspec": {
   "display_name": "Python 3.8.12 (conda)",
   "language": "python",
   "name": "python3"
  },
  "language_info": {
   "codemirror_mode": {
    "name": "ipython",
    "version": 3
   },
   "file_extension": ".py",
   "mimetype": "text/x-python",
   "name": "python",
   "nbconvert_exporter": "python",
   "pygments_lexer": "ipython3",
   "version": "3.8.12"
  },
  "vscode": {
   "interpreter": {
    "hash": "276cb92f24b41b9f0d970b9341f6985e33d08dd20600905fc8ace2fed9003440"
   }
  }
 },
 "nbformat": 4,
 "nbformat_minor": 5
}
